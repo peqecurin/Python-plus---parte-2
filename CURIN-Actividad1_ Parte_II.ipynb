{
 "cells": [
  {
   "cell_type": "markdown",
   "id": "14df4a10",
   "metadata": {},
   "source": [
    "# Actividad 1 por Python plus - Parte II\n",
    "\n",
    "- Sobre el ejercicio asignado:\n",
    "    - [Evaluación del trabajo asignado](#parte1.1)\n",
    "    - [Análisis del ejercicio asignado](#parte1.2)\n",
    "- Sobre este trabajo:\n",
    "    - [Corrección de la evaluación realizada](#parte2.1)\n",
    "    - [Solución alternativa](#parte2.2)\n",
    "    - [Uso de ChatGPT](#parte2.3)"
   ]
  },
  {
   "cell_type": "markdown",
   "id": "eb80dfd8",
   "metadata": {},
   "source": [
    "## Evaluación del trabajo asignado <a name=\"parte1.1\"></a>"
   ]
  },
  {
   "cell_type": "markdown",
   "id": "805c4f24",
   "metadata": {},
   "source": [
    "### Solución propuesta por tu compañero/a"
   ]
  },
  {
   "cell_type": "markdown",
   "id": "b2c22533",
   "metadata": {},
   "source": [
    "### EJERCICIO 1: dado el archivo denominado log_catedras que contiene el registro de accesos\n",
    "al entorno catedras.linti, se desea: 1. Generar una función que retorne los 5 usuarios que más\n",
    "actividad registran en este archivo y la cantidad de accesos registrados. Esta función recbe un\n",
    "parámetro opcional que indica el orden en que se ordenan los usuarios: “A”, si se ordenan en forma\n",
    "ascendente, “D” si es descendente o “None” si no se aplica ningún orden. Por defecto la función no\n",
    "ordena. 2. Escribir un programa que, utilizando la función anterior, muestre un listado similar al\n",
    " siguiente:\n",
    " \n",
    "------------------------------------------\n",
    "Usuario en el sistema Cantidad de accesos\n",
    "------------------------------------------\n",
    "Butterfree 78\n",
    "Pikachu 71\n",
    "Oddish 67\n",
    "Kingler 65\n",
    "Tauros 65\n",
    "\n",
    "Incluí también la URL del cuaderno asignado\n",
    "\n",
    "\n",
    "**URL:** https://drive.google.com/file/d/1LunVAx1LhirO-eW4R3cWHWDxYka62dQU/view\n",
    "\n"
   ]
  },
  {
   "cell_type": "code",
   "execution_count": 3,
   "id": "05249b25",
   "metadata": {},
   "outputs": [
    {
     "name": "stdout",
     "output_type": "stream",
     "text": [
      "ingrese A si quiere ver los usuario en orden decreciente, B para verlos en orden creciente o None para no ordenarlosA\n",
      "------------------------------------------\n",
      "Usuario en el sistema  |  Cantidad de accesos\n",
      "------------------------------------------\n",
      "Raticate                         533\n",
      "Omastar                          550\n",
      "Geodude                          959\n",
      "Hypno                           1529\n",
      "Butterfree                      1659\n"
     ]
    }
   ],
   "source": [
    "import csv\n",
    "import random\n",
    "from collections import Counter\n",
    "\n",
    "param = input(\"ingrese A si quiere ver los usuario en orden decreciente, B para verlos en orden creciente o None para no ordenarlos\")\n",
    "\n",
    "with open('log_catedras.csv', 'r') as logcatedras:\n",
    "    log_catedras=csv.DictReader(logcatedras)\n",
    "    nombre_completo= []\n",
    "    for row in log_catedras:\n",
    "        nombre_completo.append(row[\"Nombre completo del usuario\"])\n",
    "\n",
    "accesos_por_usuario=Counter(nombre_completo)\n",
    "accesos_por_usuario\n",
    "\n",
    "def top_accesos(accesos,param):\n",
    "    accesos_ordenados = list(sorted(accesos.items(), key=lambda x: x[1], reverse=True))\n",
    "    if param == \"A\":\n",
    "        ordenados=list(sorted(accesos_ordenados[0:5], key=lambda x: x[1], reverse=False))\n",
    "    elif param == \"B\":\n",
    "        ordenados=list(sorted(accesos_ordenados[0:5], key=lambda x: x[1], reverse=True))\n",
    "    elif param == \"None\":\n",
    "        ordenados=random.sample(accesos_ordenados[0:5], len(accesos_ordenados[0:5]))\n",
    "    return ordenados\n",
    "\n",
    "ordenados = top_accesos(accesos_por_usuario,param)\n",
    "\n",
    "print(\"-\"*42)\n",
    "print(\"Usuario en el sistema  |  Cantidad de accesos\")\n",
    "print(\"-\"*42)\n",
    "for i in range(5):\n",
    "    print(f\"{ordenados[i][0]:<30} {ordenados[i][1]:>5}\")\n",
    "    \n"
   ]
  },
  {
   "cell_type": "markdown",
   "id": "1eae6299",
   "metadata": {},
   "source": [
    "## Análisis del ejercicio asignado <a name=\"parte1.2\"></a>"
   ]
  },
  {
   "cell_type": "markdown",
   "id": "4e9717da",
   "metadata": {},
   "source": [
    "### Calificá de acuerdo a las siguientes pautas:"
   ]
  },
  {
   "cell_type": "code",
   "execution_count": 6,
   "id": "2762a6c2",
   "metadata": {
    "scrolled": true
   },
   "outputs": [],
   "source": [
    "# Puntos acumulados del trabajo de mi conpañero/a\n",
    "puntos_parte_I = 0"
   ]
  },
  {
   "cell_type": "markdown",
   "id": "fb152d91",
   "metadata": {},
   "source": [
    "1.- **¿El algoritmo para el procesamiento de datos en el archivo es correcto?¿Resuelve la consulta planteada?:** +10 puntos\n",
    "\n",
    "- Sumá 10 puntos si el código es correcto, inpendientemente si sigue con todas las indicaciones como lo pide el enunciado.\n"
   ]
  },
  {
   "cell_type": "code",
   "execution_count": 7,
   "id": "00a9cdca",
   "metadata": {
    "scrolled": true
   },
   "outputs": [],
   "source": [
    "# puntos a sumar de esta consigna:\n",
    "puntos_parte_I += 10"
   ]
  },
  {
   "cell_type": "markdown",
   "id": "43ba367c",
   "metadata": {},
   "source": [
    "2.-**¿Define la función de acuerdo a lo pedido? (respecto a la definición de parámetros, y valores retornados)**: +5 puntos\n",
    "\n",
    "- Sumá 2.5 puntos: si lo hace pero presenta algún error (indicá cuál es el error).\n",
    "\n",
    "- Sumá 5 puntos: si está correcto"
   ]
  },
  {
   "cell_type": "code",
   "execution_count": 8,
   "id": "590a4742",
   "metadata": {
    "scrolled": true
   },
   "outputs": [],
   "source": [
    "# puntos a sumar de esta consigna:\n",
    "puntos_parte_I += 5"
   ]
  },
  {
   "cell_type": "markdown",
   "id": "577b576a",
   "metadata": {},
   "source": [
    "3.-**¿Genera el listado de acuerdo a lo pedido?¿Respeta el formato propuesto?**: +5 puntos\n",
    "\n",
    "- Sumá 2.5 puntos: si lo hace pero presenta algún error (indicá cuál es el error).\n",
    "\n",
    "- Sumá 5 puntos: si está correcto"
   ]
  },
  {
   "cell_type": "code",
   "execution_count": 9,
   "id": "e3963e5d",
   "metadata": {
    "scrolled": true
   },
   "outputs": [],
   "source": [
    "# puntos a sumar de esta consigna:\n",
    "puntos_parte_I += 5"
   ]
  },
  {
   "cell_type": "markdown",
   "id": "e619052f",
   "metadata": {},
   "source": [
    "4- **Sobre el acceso al archivo de datos:** -10  a 5 puntos\n",
    "\n",
    "- Descontá 5 puntos si lo abre utilizando una ruta absoluta (ejemplo: /home/archivo/archivo.csv).\n",
    "- Descontá 5 puntos si no se cierra el archivo.\n",
    "- Sumá 5 puntos si usa la sentencia with y lo hace en forma correcta.\n",
    "- Sumá 5 puntos si abre correctamente el archivo (sin with) y lo cierra."
   ]
  },
  {
   "cell_type": "code",
   "execution_count": 10,
   "id": "b55c9896",
   "metadata": {
    "scrolled": true
   },
   "outputs": [],
   "source": [
    "# puntos a sumar de esta consigna:\n",
    "puntos_parte_I += 5"
   ]
  },
  {
   "cell_type": "markdown",
   "id": "1670ee4b",
   "metadata": {},
   "source": [
    "5.- **Alguna otra falla o detalles que quieras marcar?**: - 5 puntos\n",
    "\n",
    "- Especificá cuál es el error que encontrás: Utiliza a letra \"B\" en lugar de la \"D\" para descendiente."
   ]
  },
  {
   "cell_type": "code",
   "execution_count": 12,
   "id": "1e985faa",
   "metadata": {
    "scrolled": true
   },
   "outputs": [],
   "source": [
    "# puntos a descontar de esta consigna:\n",
    "puntos_parte_I -= 0"
   ]
  },
  {
   "cell_type": "markdown",
   "id": "50b1c6fc",
   "metadata": {},
   "source": [
    "### Total de puntos de la actividad (parte I) del trabajo asignado:"
   ]
  },
  {
   "cell_type": "code",
   "execution_count": 13,
   "id": "afbe1851",
   "metadata": {
    "scrolled": true
   },
   "outputs": [
    {
     "name": "stdout",
     "output_type": "stream",
     "text": [
      "Puntos actividad 1 - Parte I: 25\n"
     ]
    }
   ],
   "source": [
    "print(f\"Puntos actividad 1 - Parte I: {puntos_parte_I if puntos_parte_I >0 else 0}\")"
   ]
  },
  {
   "cell_type": "markdown",
   "id": "34aa40a5",
   "metadata": {},
   "source": [
    "### ¿Algo más que no fue considerado?"
   ]
  },
  {
   "cell_type": "markdown",
   "id": "1e1f3415",
   "metadata": {},
   "source": [
    "No es un error pero cuando escribís algún nombre de parámetors q no sea el solicitado, el programa tira error  y se muere. En mi opinión debería tirarte algún cartel de lo q sucede, pues de lo contrario parece un error de programación."
   ]
  },
  {
   "cell_type": "markdown",
   "id": "dc26afe2",
   "metadata": {},
   "source": [
    "## Corrección de la evaluación realizada - Total 20 puntos <a name=\"parte2.1\"></a>"
   ]
  },
  {
   "cell_type": "code",
   "execution_count": null,
   "id": "a397db33",
   "metadata": {
    "scrolled": true
   },
   "outputs": [],
   "source": [
    "# Puntos acumulados de mi parte II    - A COMPLETAR POR LA CATEDRA -\n",
    "puntos_parte_II = 0"
   ]
  },
  {
   "cell_type": "markdown",
   "id": "93b1dce8",
   "metadata": {},
   "source": [
    "### Corrección de la parte I de mi compañero/a: 10 puntos\n",
    "\n",
    "- Suma 10 puntos si la evaluación realizada es correcta.\n",
    "- Suma 5 puntos si el manejo de arhivos está mal evaluado, pero el resto es correcto.\n",
    "- Suma 5 puntos si la definición de la función está mal evaluada pero el resto es correcto. "
   ]
  },
  {
   "cell_type": "code",
   "execution_count": null,
   "id": "8ebab756",
   "metadata": {
    "scrolled": true
   },
   "outputs": [],
   "source": [
    "# Sumo puntos de la sección - A COMPLETAR POR LA CATEDRA -\n",
    "puntos_parte_II += 10"
   ]
  },
  {
   "cell_type": "markdown",
   "id": "b6836a8f",
   "metadata": {},
   "source": [
    "### Análisis de la  solución propuesta por mi compañero/a: 10 puntos\n",
    "\n",
    "Responodé: "
   ]
  },
  {
   "cell_type": "markdown",
   "id": "3631026c",
   "metadata": {},
   "source": [
    "- **¿Qué estructuras de datos usa para el manejo de los datos ingresados desde el archivo?** 3 ptos.\n",
    "--> Trabaja con listas, y con diccionaros a partir de la funcion Counter.\n",
    "\n",
    "\n"
   ]
  },
  {
   "cell_type": "markdown",
   "id": "19c84303",
   "metadata": {},
   "source": [
    "- **¿Usa expresiones lambda, funciones map, filter, reduce u otra similar? ¿Están correctamente definidas?** 2 ptos.\n",
    "--> Utiliza de manera correcta expresiones lambda. Además usa correctamente la funcion sorted.\n"
   ]
  },
  {
   "cell_type": "markdown",
   "id": "ece79493",
   "metadata": {},
   "source": [
    "- **¿Recorre el archivo más de lo necesario para resolver el ejercicio? ¿Se podría haber hecho de una mejor forma?Justificá.** 5 ptos. si justificás. --> En mi opinión lo recorre de manera correcta, pues solo usa una lista para los datos que requiere para el eunciado y no trabaja con los demás.\n",
    "\n",
    "\n"
   ]
  },
  {
   "cell_type": "code",
   "execution_count": null,
   "id": "d63dc7e9",
   "metadata": {
    "scrolled": true
   },
   "outputs": [],
   "source": [
    "# Sumo puntos de la sección - A COMPLETAR POR LA CATEDRA -\n",
    "puntos_parte_II += 10"
   ]
  },
  {
   "cell_type": "markdown",
   "id": "29fdc855",
   "metadata": {},
   "source": [
    "## Escribí una solución alternativa a la planteada por tu compañero/a: 15 puntos <a name=\"parte2.2\"></a>\n",
    "**Esta solución será evaluada de acuerdo a las mismas pautas establecidas en este cuaderno.** (reduciendo proporcionalmente los puntos de cada sección, dado que el acá es 15 y no 25)"
   ]
  },
  {
   "cell_type": "code",
   "execution_count": null,
   "id": "9a1bc0dc",
   "metadata": {
    "scrolled": true
   },
   "outputs": [],
   "source": [
    "# Solución alternativa\n",
    "import csv\n",
    "import random\n",
    "from collections import Counter\n",
    "\n",
    "archivo_cvs = open(\"log_catedras.csv\")\n",
    "csvreader = csv.DictReader(archivo_cvs, delimiter=',')\n",
    "\n",
    "#Genero una lista con los nombres:\n",
    "nombres= []   \n",
    " \n",
    "for linea in archivo_cvs:\n",
    "    nombres.append(linea[1])\n",
    "    \n",
    "#defino la funcion:    \n",
    "usuario = Counter(nombres)\n",
    "\n",
    "def registros_act(accesos,param):\n",
    "    if param == \"A\":\n",
    "        registros = usuario.most_common(5)\n",
    "    elif param == \"D\":\n",
    "        registros = list(reversed(usuario.most_common(5)))\n",
    "    elif param == \"None\":\n",
    "        registros = random.sample(usuario)\n",
    "    else:\n",
    "        print(\"Ud no ingresó A, D o None. Vuelva a intentarlo\")\n",
    "    return registros_act\n",
    "\n",
    "#-----------------------------------------------------------------\n",
    "#Uso la función:\n",
    "print(\"\"\"Ingrese A si quiere ver los usuario en orden decreciente, \n",
    "      D para verlos en orden creciente o None para no ordenarlos\"\"\")\n",
    "\n",
    "param = input(\"parametro: \")\n",
    "\n",
    "registros = registros_act(nombres, param)\n",
    "                          \n",
    "print(\"-\"*40)\n",
    "print(\"Usuario en el sistema  |  Cantidad de accesos\")\n",
    "print(\"-\"*40)\n",
    "\n",
    "i = 0\n",
    "while i<=5:\n",
    "    for usuario in nombres:\n",
    "        print(f\"{nombres[i]}          \",f\"{registros[i]:>10}\")   \n",
    "        i = i+1\n"
   ]
  },
  {
   "cell_type": "code",
   "execution_count": null,
   "id": "b61dae7c",
   "metadata": {
    "scrolled": true
   },
   "outputs": [],
   "source": [
    "# Sumo puntos de la sección - A COMPLETAR POR LA CATEDRA\n",
    "puntos_parte_II += 15"
   ]
  },
  {
   "cell_type": "markdown",
   "id": "7920e10b",
   "metadata": {},
   "source": [
    "## Uso de GPT - Total 5 puntos  <a name=\"parte2.3\"></a>\n",
    "\n",
    "\n",
    "**Mostrá una solución (o partes de la misma) dada por ChatGPT a este ejercicio.** (2.5 pts.)"
   ]
  },
  {
   "cell_type": "code",
   "execution_count": 1,
   "id": "7f3abde7",
   "metadata": {},
   "outputs": [],
   "source": [
    "from collections import Counter\n",
    "\n",
    "def usuarios_activos(archivo, orden=None):\n",
    "    with open(archivo) as f:\n",
    "        # Leer el archivo y contar la cantidad de accesos por usuario\n",
    "        accesos = Counter(line.split()[0] for line in f)\n",
    "    \n",
    "    # Obtener los usuarios más activos\n",
    "    usuarios = accesos.most_common(5)\n",
    "    \n",
    "    # Ordenar los usuarios según el criterio especificado\n",
    "    if orden == \"A\":\n",
    "        usuarios = sorted(usuarios, key=lambda x: x[1])\n",
    "    elif orden == \"D\":\n",
    "        usuarios = sorted(usuarios, key=lambda x: x[1], reverse=True)\n",
    "    \n",
    "    return usuarios\n"
   ]
  },
  {
   "cell_type": "markdown",
   "id": "9caf4a8f",
   "metadata": {},
   "source": [
    "**Respondé:** (2.5pts.)"
   ]
  },
  {
   "cell_type": "markdown",
   "id": "92626791",
   "metadata": {},
   "source": [
    "1. **En la respuesta dada, ¿se incluyen funciones o métodos no dados por la cátedra?** (SI/NO)\n",
    "Sí"
   ]
  },
  {
   "cell_type": "markdown",
   "id": "18c77963",
   "metadata": {},
   "source": [
    "2. **¿Es entendible el código y la explicación propuesta?** SI/NO (si la respuesta es NO, indicá qué parte no se entiende)\n",
    "Si."
   ]
  },
  {
   "cell_type": "markdown",
   "id": "7ba932f2",
   "metadata": {},
   "source": [
    "3. **Según esta experiencia, ¿podés decir si  el ejercicio que te tocó corregir fue resuelto con la ayuda de ChatGPT? ¿En qué te basás para responder esto?**\n",
    "En mi opinión se ayudó del chatGPT, pues el armado de la función es exactamente nigual, con otro nombre."
   ]
  },
  {
   "cell_type": "markdown",
   "id": "ed9fc632",
   "metadata": {},
   "source": [
    "4. **Utilizaste la ayuda de ChatGPT para escribir la solución alternativa?** (SI/NO)\n",
    "Sì."
   ]
  },
  {
   "cell_type": "markdown",
   "id": "6eeae749",
   "metadata": {},
   "source": [
    "5. **Si respondiste afirmativamente la respuesta anterior, ¿de qué forma lo usaste?**\n",
    "Lo usé sólo para definir la armar el listado pedido.\n",
    "De todos modos, no logré imprimir bine los datos finales.\n",
    "\n",
    "Posibles respuestas (podés mencionar otras): \n",
    "- \"Lo usé para arrancar, ya que no se me ocurrió otra solución.\"\n",
    "- \"Lo usé para  verificar si lo que había planteado era correcto.\"\n",
    "- \"Lo usé sólo para definir la armar el listado pedido.\"\n",
    "- \"Lo usé sólo para ver cómo procesar el archivo de acuerdo a lo pedido.\""
   ]
  },
  {
   "cell_type": "code",
   "execution_count": null,
   "id": "0229a240",
   "metadata": {},
   "outputs": [],
   "source": [
    "# Sumo puntos de la sección - A COMPLETAR POR LA CATEDRA - \n",
    "puntos_parte_II += 5"
   ]
  },
  {
   "cell_type": "markdown",
   "id": "b0ba1701",
   "metadata": {},
   "source": [
    "### Total puntos de la actividad"
   ]
  },
  {
   "cell_type": "code",
   "execution_count": null,
   "id": "8248b652",
   "metadata": {
    "scrolled": true
   },
   "outputs": [],
   "source": [
    "print(f\"Puntos actividad 1 - Parte II: {puntos_parte_II if puntos_parte_II >0 else 0}\")"
   ]
  }
 ],
 "metadata": {
  "kernelspec": {
   "display_name": "Python 3 (ipykernel)",
   "language": "python",
   "name": "python3"
  },
  "language_info": {
   "codemirror_mode": {
    "name": "ipython",
    "version": 3
   },
   "file_extension": ".py",
   "mimetype": "text/x-python",
   "name": "python",
   "nbconvert_exporter": "python",
   "pygments_lexer": "ipython3",
   "version": "3.11.2"
  }
 },
 "nbformat": 4,
 "nbformat_minor": 5
}
